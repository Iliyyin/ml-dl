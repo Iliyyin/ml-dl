{
  "nbformat": 4,
  "nbformat_minor": 0,
  "metadata": {
    "colab": {
      "provenance": [],
      "authorship_tag": "ABX9TyMLRyfNEog1pL3C4qnle9ve",
      "include_colab_link": true
    },
    "kernelspec": {
      "name": "python3",
      "display_name": "Python 3"
    },
    "language_info": {
      "name": "python"
    }
  },
  "cells": [
    {
      "cell_type": "markdown",
      "metadata": {
        "id": "view-in-github",
        "colab_type": "text"
      },
      "source": [
        "<a href=\"https://colab.research.google.com/github/Iliyyin/ml-dl/blob/main/Examining_Effects_Of_Bottlenecks_.ipynb\" target=\"_parent\"><img src=\"https://colab.research.google.com/assets/colab-badge.svg\" alt=\"Open In Colab\"/></a>"
      ]
    },
    {
      "cell_type": "code",
      "source": [
        "import time\n",
        "from PIL import Image\n",
        "from torchvision.datasets import ImageFolder\n",
        "from torch.utils.data import DataLoader\n",
        "from torchvision import transforms\n",
        "import torch\n",
        "import torch.nn as nn"
      ],
      "metadata": {
        "id": "SMCnSR3eZsQh"
      },
      "execution_count": 7,
      "outputs": []
    },
    {
      "cell_type": "code",
      "source": [
        "class BottleneckImageFolder(ImageFolder):\n",
        "    def __getitem__(self, index):\n",
        "        path, target = self.samples[index]\n",
        "        #Bottleneck1: Synchronous I/O.\n",
        "        image = Image.open(path).convert('RGB')\n",
        "        #Bottleneck2: Simulated CPU delay.\n",
        "        time.sleep(0.001)\n",
        "        if self.transform is not None:\n",
        "            image = self.transform(image)\n",
        "        if self.target_transform is not None:\n",
        "            target = self.target_transform(target)\n",
        "        return image, torch.tensor(target, dtype = torch.long)"
      ],
      "metadata": {
        "id": "XxowmTJDJ1si"
      },
      "execution_count": 2,
      "outputs": []
    },
    {
      "cell_type": "code",
      "source": [
        "if __name__ == '__main__':\n",
        "  transform = transforms.Compose([\n",
        "    transforms.Resize((224, 224)), transforms.ToTensor(), ])"
      ],
      "metadata": {
        "id": "pXdy7dGgLGJV"
      },
      "execution_count": 3,
      "outputs": []
    },
    {
      "cell_type": "code",
      "metadata": {
        "colab": {
          "base_uri": "https://localhost:8080/"
        },
        "id": "b6712a4f",
        "outputId": "1e9bd39e-6062-487c-c86e-423e5cf4c62e"
      },
      "source": [
        "import os\n",
        "import shutil\n",
        "\n",
        "# Create a subdirectory for the images\n",
        "class_dir = '/content/Images/all_images'\n",
        "os.makedirs(class_dir, exist_ok=True)\n",
        "\n",
        "# Move all image files into the subdirectory\n",
        "for filename in os.listdir('/content/Images'):\n",
        "    if filename.endswith('.jpg'):\n",
        "        shutil.move(os.path.join('/content/Images', filename), class_dir)\n",
        "\n",
        "print(f\"Moved all images to {class_dir}\")"
      ],
      "execution_count": 5,
      "outputs": [
        {
          "output_type": "stream",
          "name": "stdout",
          "text": [
            "Moved all images to /content/Images/all_images\n"
          ]
        }
      ]
    },
    {
      "cell_type": "code",
      "source": [
        "loader = DataLoader(dataset, batch_size = 32, num_workers = 0)"
      ],
      "metadata": {
        "id": "10Xag7teMMNs"
      },
      "execution_count": 8,
      "outputs": []
    },
    {
      "cell_type": "code",
      "source": [
        "device = torch.device(\"cuda\" if torch.cuda.is_available() else \"cpu\")\n",
        "model_adaptive = nn.Sequential(\n",
        "    nn.Conv2d(3, 16, kernel_size = 3, stride = 1, padding = 1),\n",
        "    nn.ReLU(),\n",
        "    nn.MaxPool2d(kernel_size = 2, stride = 2),\n",
        "    nn.AdaptiveAvgPool2d(output_size = (1, 1)),\n",
        "    nn.Flatten(),\n",
        "    nn.Linear(16, 10)\n",
        ").to(device)\n",
        "criterion = nn.CrossEntropyLoss()\n",
        "optimizer = torch.optim.Adam(model_adaptive.parameters(), lr = 0.001)"
      ],
      "metadata": {
        "id": "HFKZZBXlPygo"
      },
      "execution_count": 10,
      "outputs": []
    },
    {
      "cell_type": "code",
      "source": [
        "for epoch in range(6):\n",
        "  epoch_start_time = time.time()\n",
        "  with torch.profiler.profile(\n",
        "      activities = [torch.profiler.ProfilerActivity.CPU],\n",
        "      schedule = torch.profiler.schedule(wait = 1, warmup = 1, active = 3, repeat = 2),\n",
        "      on_trace_ready=torch.profiler.tensorboard_trace_handler(\"./logs/baseline\", worker_name=\"worker0\"),\n",
        "      record_shapes = True,\n",
        "      profile_memory = True,\n",
        "      with_stack = True\n",
        "  ) as prof:\n",
        "      for i, (inputs, labels) in enumerate(loader):\n",
        "          inputs, labels = inputs.to(device), labels.to(device)\n",
        "          optimizer.zero_grad()\n",
        "          outputs = model_adaptive(inputs)\n",
        "          loss = criterion(outputs, labels)\n",
        "          loss.backward()\n",
        "          optimizer.step()\n",
        "          prof.step()\n",
        "epoch_time = time.time() - epoch_start_time\n",
        "print(f\"Epoch {epoch + 1} completed in {epoch_time:.2f} seconds\")\n",
        "print(prof.key_averages().table(sort_by=\"cpu_time_total\", row_limit=10))\n"
      ],
      "metadata": {
        "colab": {
          "base_uri": "https://localhost:8080/"
        },
        "id": "C0hQfNFnRMsp",
        "outputId": "29b251a5-4126-4806-d733-5be04d8c65fa"
      },
      "execution_count": 19,
      "outputs": [
        {
          "output_type": "stream",
          "name": "stdout",
          "text": [
            "Epoch 6 completed in 10.66 seconds\n",
            "-------------------------------------------------------  ------------  ------------  ------------  ------------  ------------  ------------  ------------  ------------  \n",
            "                                                   Name    Self CPU %      Self CPU   CPU total %     CPU total  CPU time avg       CPU Mem  Self CPU Mem    # of Calls  \n",
            "-------------------------------------------------------  ------------  ------------  ------------  ------------  ------------  ------------  ------------  ------------  \n",
            "                                          ProfilerStep*         1.49%       7.549ms       100.00%     508.299ms     254.149ms      -9.18 MB     -79.63 MB             2  \n",
            "                                       aten::max_pool2d         0.00%      24.918us        19.50%      99.132ms      99.132ms      36.75 MB           0 B             1  \n",
            "                          aten::max_pool2d_with_indices        19.50%      99.107ms        19.50%      99.107ms      99.107ms      36.75 MB      36.75 MB             1  \n",
            "                                           aten::conv2d         0.00%      10.883us        19.39%      98.558ms      98.558ms      49.00 MB           0 B             1  \n",
            "                                      aten::convolution         0.01%      43.712us        19.39%      98.547ms      98.547ms      49.00 MB           0 B             1  \n",
            "                                     aten::_convolution         0.01%      36.198us        19.38%      98.504ms      98.504ms      49.00 MB           0 B             1  \n",
            "                               aten::mkldnn_convolution        19.36%      98.391ms        19.37%      98.467ms      98.467ms      49.00 MB           0 B             1  \n",
            "autograd::engine::evaluate_function: ConvolutionBack...         1.02%       5.164ms        17.88%      90.863ms      90.863ms     -49.00 MB     -49.00 MB             1  \n",
            "                                   ConvolutionBackward0         0.01%      48.244us        16.86%      85.699ms      85.699ms       1.75 KB           0 B             1  \n",
            "                             aten::convolution_backward        16.84%      85.605ms        16.85%      85.651ms      85.651ms       1.75 KB           0 B             1  \n",
            "-------------------------------------------------------  ------------  ------------  ------------  ------------  ------------  ------------  ------------  ------------  \n",
            "Self CPU time total: 508.299ms\n",
            "\n"
          ]
        }
      ]
    }
  ]
}